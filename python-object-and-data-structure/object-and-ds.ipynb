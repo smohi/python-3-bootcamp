{
 "cells": [
  {
   "cell_type": "code",
   "execution_count": 1,
   "id": "5f0ad438",
   "metadata": {},
   "outputs": [
    {
     "name": "stdout",
     "output_type": "stream",
     "text": [
      "hello test!\n"
     ]
    }
   ],
   "source": [
    "print(\"hello test!\")"
   ]
  },
  {
   "cell_type": "code",
   "execution_count": 2,
   "id": "f1da2c13",
   "metadata": {},
   "outputs": [
    {
     "data": {
      "text/plain": [
       "1.75"
      ]
     },
     "execution_count": 2,
     "metadata": {},
     "output_type": "execute_result"
    }
   ],
   "source": [
    "7/4"
   ]
  },
  {
   "cell_type": "markdown",
   "id": "8d8e4245",
   "metadata": {},
   "source": []
  },
  {
   "cell_type": "code",
   "execution_count": 3,
   "id": "7faaa3ea",
   "metadata": {},
   "outputs": [
    {
     "data": {
      "text/plain": [
       "3"
      ]
     },
     "execution_count": 3,
     "metadata": {},
     "output_type": "execute_result"
    }
   ],
   "source": [
    "7%4"
   ]
  },
  {
   "cell_type": "code",
   "execution_count": 4,
   "id": "344af42f",
   "metadata": {
    "scrolled": true
   },
   "outputs": [
    {
     "data": {
      "text/plain": [
       "0"
      ]
     },
     "execution_count": 4,
     "metadata": {},
     "output_type": "execute_result"
    }
   ],
   "source": [
    "10%5"
   ]
  },
  {
   "cell_type": "code",
   "execution_count": 5,
   "id": "4e7d6421",
   "metadata": {},
   "outputs": [
    {
     "data": {
      "text/plain": [
       "1"
      ]
     },
     "execution_count": 5,
     "metadata": {},
     "output_type": "execute_result"
    }
   ],
   "source": [
    "21%2"
   ]
  },
  {
   "cell_type": "code",
   "execution_count": 6,
   "id": "b46a0505",
   "metadata": {},
   "outputs": [
    {
     "data": {
      "text/plain": [
       "4"
      ]
     },
     "execution_count": 6,
     "metadata": {},
     "output_type": "execute_result"
    }
   ],
   "source": [
    "2 * 2"
   ]
  },
  {
   "cell_type": "code",
   "execution_count": 7,
   "id": "5ef89f14",
   "metadata": {},
   "outputs": [
    {
     "data": {
      "text/plain": [
       "4"
      ]
     },
     "execution_count": 7,
     "metadata": {},
     "output_type": "execute_result"
    }
   ],
   "source": [
    "2 ** 2"
   ]
  },
  {
   "cell_type": "code",
   "execution_count": 8,
   "id": "1b1d800b",
   "metadata": {},
   "outputs": [
    {
     "data": {
      "text/plain": [
       "12"
      ]
     },
     "execution_count": 8,
     "metadata": {},
     "output_type": "execute_result"
    }
   ],
   "source": [
    "(2 + 2)*3"
   ]
  },
  {
   "cell_type": "code",
   "execution_count": 1,
   "id": "ac087a8a",
   "metadata": {},
   "outputs": [],
   "source": [
    "str_a = \"Hello\""
   ]
  },
  {
   "cell_type": "code",
   "execution_count": 2,
   "id": "0c7eacb2",
   "metadata": {},
   "outputs": [
    {
     "name": "stdout",
     "output_type": "stream",
     "text": [
      "o\n"
     ]
    }
   ],
   "source": [
    "print(str_a[-1])"
   ]
  },
  {
   "cell_type": "code",
   "execution_count": 3,
   "id": "9e43a9fb",
   "metadata": {},
   "outputs": [],
   "source": [
    "str_b = \"I don't go to gym\""
   ]
  },
  {
   "cell_type": "code",
   "execution_count": 4,
   "id": "cab4a3b0",
   "metadata": {},
   "outputs": [
    {
     "data": {
      "text/plain": [
       "17"
      ]
     },
     "execution_count": 4,
     "metadata": {},
     "output_type": "execute_result"
    }
   ],
   "source": [
    " len(str_b)"
   ]
  },
  {
   "cell_type": "code",
   "execution_count": 5,
   "id": "b81b4c7a",
   "metadata": {},
   "outputs": [],
   "source": [
    "str_c = 'abcdefghijk'"
   ]
  },
  {
   "cell_type": "code",
   "execution_count": 6,
   "id": "31ae644a",
   "metadata": {},
   "outputs": [
    {
     "data": {
      "text/plain": [
       "'cdefghijk'"
      ]
     },
     "execution_count": 6,
     "metadata": {},
     "output_type": "execute_result"
    }
   ],
   "source": [
    "str_c[2:]"
   ]
  },
  {
   "cell_type": "code",
   "execution_count": 7,
   "id": "378e53d2",
   "metadata": {},
   "outputs": [
    {
     "data": {
      "text/plain": [
       "'abc'"
      ]
     },
     "execution_count": 7,
     "metadata": {},
     "output_type": "execute_result"
    }
   ],
   "source": [
    "str_c[:3]"
   ]
  },
  {
   "cell_type": "code",
   "execution_count": 8,
   "id": "dd7b20d9",
   "metadata": {},
   "outputs": [
    {
     "data": {
      "text/plain": [
       "'def'"
      ]
     },
     "execution_count": 8,
     "metadata": {},
     "output_type": "execute_result"
    }
   ],
   "source": [
    "str_c[3:6]"
   ]
  },
  {
   "cell_type": "code",
   "execution_count": 12,
   "id": "1e36ab3b",
   "metadata": {},
   "outputs": [
    {
     "data": {
      "text/plain": [
       "'acegik'"
      ]
     },
     "execution_count": 12,
     "metadata": {},
     "output_type": "execute_result"
    }
   ],
   "source": [
    "str_c[::2]"
   ]
  },
  {
   "cell_type": "code",
   "execution_count": 13,
   "id": "d2064265",
   "metadata": {},
   "outputs": [
    {
     "data": {
      "text/plain": [
       "'ceg'"
      ]
     },
     "execution_count": 13,
     "metadata": {},
     "output_type": "execute_result"
    }
   ],
   "source": [
    "str_c[2:7:2]"
   ]
  },
  {
   "cell_type": "code",
   "execution_count": 14,
   "id": "88779136",
   "metadata": {},
   "outputs": [
    {
     "data": {
      "text/plain": [
       "'kjihgfedcba'"
      ]
     },
     "execution_count": 14,
     "metadata": {},
     "output_type": "execute_result"
    }
   ],
   "source": [
    "str_c[::-1]"
   ]
  },
  {
   "cell_type": "code",
   "execution_count": 18,
   "id": "510ca80b",
   "metadata": {},
   "outputs": [
    {
     "name": "stdout",
     "output_type": "stream",
     "text": [
      "Mello\n"
     ]
    }
   ],
   "source": [
    "#str_a[0]='M' immutable\n",
    "str_a_2 = str_a[1:]\n",
    "str_a = 'M' + str_a_2\n",
    "print(str_a)"
   ]
  },
  {
   "cell_type": "code",
   "execution_count": 19,
   "id": "975c759b",
   "metadata": {},
   "outputs": [
    {
     "data": {
      "text/plain": [
       "'Mello'"
      ]
     },
     "execution_count": 19,
     "metadata": {},
     "output_type": "execute_result"
    }
   ],
   "source": [
    "str_a"
   ]
  },
  {
   "cell_type": "code",
   "execution_count": 20,
   "id": "2866a7f0",
   "metadata": {},
   "outputs": [
    {
     "data": {
      "text/plain": [
       "'MelloMelloMelloMelloMelloMelloMelloMelloMelloMello'"
      ]
     },
     "execution_count": 20,
     "metadata": {},
     "output_type": "execute_result"
    }
   ],
   "source": [
    "str_a * 10"
   ]
  },
  {
   "cell_type": "code",
   "execution_count": 23,
   "id": "68af968e",
   "metadata": {},
   "outputs": [
    {
     "name": "stdout",
     "output_type": "stream",
     "text": [
      "5 23\n"
     ]
    }
   ],
   "source": [
    "int_a = 2 + 3\n",
    "str_a_c = '2' + '3'\n",
    "print(int_a, str_a_c)"
   ]
  },
  {
   "cell_type": "code",
   "execution_count": 25,
   "id": "bb1e412f",
   "metadata": {},
   "outputs": [
    {
     "data": {
      "text/plain": [
       "'MELLO'"
      ]
     },
     "execution_count": 25,
     "metadata": {},
     "output_type": "execute_result"
    }
   ],
   "source": [
    "str_a.upper()"
   ]
  },
  {
   "cell_type": "code",
   "execution_count": 26,
   "id": "bf5d9fd9",
   "metadata": {},
   "outputs": [
    {
     "data": {
      "text/plain": [
       "'Mello'"
      ]
     },
     "execution_count": 26,
     "metadata": {},
     "output_type": "execute_result"
    }
   ],
   "source": [
    "str_a"
   ]
  },
  {
   "cell_type": "code",
   "execution_count": 27,
   "id": "84507174",
   "metadata": {},
   "outputs": [],
   "source": [
    "str_a = str_a.upper()"
   ]
  },
  {
   "cell_type": "code",
   "execution_count": 28,
   "id": "1e0a5312",
   "metadata": {},
   "outputs": [
    {
     "data": {
      "text/plain": [
       "'MELLO'"
      ]
     },
     "execution_count": 28,
     "metadata": {},
     "output_type": "execute_result"
    }
   ],
   "source": [
    "str_a"
   ]
  },
  {
   "cell_type": "code",
   "execution_count": 30,
   "id": "7421dace",
   "metadata": {},
   "outputs": [
    {
     "name": "stdout",
     "output_type": "stream",
     "text": [
      "Mello\n"
     ]
    }
   ],
   "source": [
    "str_a = str_a.capitalize()\n",
    "print(str_a)"
   ]
  },
  {
   "cell_type": "code",
   "execution_count": 33,
   "id": "707855eb",
   "metadata": {},
   "outputs": [
    {
     "name": "stdout",
     "output_type": "stream",
     "text": [
      "['I', \"don't\", 'go', 'to', 'gym']\n",
      "['I d', \"n't g\", ' t', ' gym']\n"
     ]
    }
   ],
   "source": [
    "#string split to list\n",
    "\n",
    "print(str_b.split())\n",
    "print(str_b.split('o'))"
   ]
  },
  {
   "cell_type": "markdown",
   "id": "da507714",
   "metadata": {},
   "source": [
    "***print formatting***"
   ]
  },
  {
   "cell_type": "code",
   "execution_count": 40,
   "id": "2fe3484f",
   "metadata": {},
   "outputs": [
    {
     "name": "stdout",
     "output_type": "stream",
     "text": [
      "hello Shyo and Habu\n",
      "hello Habu and Shyo\n",
      "hello Habu and Habu\n",
      "Hello Habu, did you go to work?\n"
     ]
    }
   ],
   "source": [
    "#.format method\n",
    "\n",
    "ab = 'Shyo'\n",
    "cd = 'Habu'\n",
    "\n",
    "print('hello {} and {}'.format(ab,cd))\n",
    "print('hello {1} and {0}'.format(ab,cd))\n",
    "print('hello {1} and {1}'.format(ab,cd))\n",
    "\n",
    "print('Hello {h}, did you go to {w}?'.format(h='Habu', w='work'))"
   ]
  },
  {
   "cell_type": "code",
   "execution_count": 45,
   "id": "4d914e45",
   "metadata": {},
   "outputs": [
    {
     "name": "stdout",
     "output_type": "stream",
     "text": [
      "the result is 3.12345676543!\n",
      "the result is 3.123!\n"
     ]
    }
   ],
   "source": [
    "#float method\n",
    "\n",
    "result = 3.12345676543\n",
    "\n",
    "print('the result is {}!'.format(result))\n",
    "print('the result is {r:1.3f}!'.format(r=result))"
   ]
  },
  {
   "cell_type": "code",
   "execution_count": 47,
   "id": "ee286dba",
   "metadata": {},
   "outputs": [
    {
     "name": "stdout",
     "output_type": "stream",
     "text": [
      "hello, Habu, how are you?\n",
      "hello, Habu & Shyo, how are you?\n"
     ]
    }
   ],
   "source": [
    "#f.string method\n",
    "\n",
    "print(f'hello, {cd}, how are you?')\n",
    "print(f'hello, {cd} & {ab}, how are you?')"
   ]
  },
  {
   "cell_type": "markdown",
   "id": "7c19030f",
   "metadata": {},
   "source": [
    "**Lists**"
   ]
  },
  {
   "cell_type": "code",
   "execution_count": 49,
   "id": "4cb65aa4",
   "metadata": {},
   "outputs": [
    {
     "name": "stdout",
     "output_type": "stream",
     "text": [
      "[1, 2, 3, 'H', 2.5]\n"
     ]
    }
   ],
   "source": [
    "a_list = [1,2,3,'H',2.5]\n",
    "print(a_list)"
   ]
  },
  {
   "cell_type": "code",
   "execution_count": 50,
   "id": "14c2e03b",
   "metadata": {},
   "outputs": [
    {
     "data": {
      "text/plain": [
       "5"
      ]
     },
     "execution_count": 50,
     "metadata": {},
     "output_type": "execute_result"
    }
   ],
   "source": [
    "len(a_list)"
   ]
  },
  {
   "cell_type": "code",
   "execution_count": 51,
   "id": "0d02151c",
   "metadata": {},
   "outputs": [
    {
     "data": {
      "text/plain": [
       "[2, 3, 'H', 2.5]"
      ]
     },
     "execution_count": 51,
     "metadata": {},
     "output_type": "execute_result"
    }
   ],
   "source": [
    "a_list[1:]"
   ]
  },
  {
   "cell_type": "code",
   "execution_count": 52,
   "id": "832397c2",
   "metadata": {},
   "outputs": [
    {
     "data": {
      "text/plain": [
       "[1, 2, 3, 'H']"
      ]
     },
     "execution_count": 52,
     "metadata": {},
     "output_type": "execute_result"
    }
   ],
   "source": [
    "a_list[:4]"
   ]
  },
  {
   "cell_type": "code",
   "execution_count": 53,
   "id": "30253ebd",
   "metadata": {},
   "outputs": [
    {
     "data": {
      "text/plain": [
       "[2.5, 'H', 3, 2, 1]"
      ]
     },
     "execution_count": 53,
     "metadata": {},
     "output_type": "execute_result"
    }
   ],
   "source": [
    "a_list[::-1]"
   ]
  },
  {
   "cell_type": "code",
   "execution_count": 55,
   "id": "9ce2f915",
   "metadata": {},
   "outputs": [
    {
     "name": "stdout",
     "output_type": "stream",
     "text": [
      "[10, 2, 3, 'H', 2.5]\n"
     ]
    }
   ],
   "source": [
    "a_list[0]=10\n",
    "print(a_list)"
   ]
  },
  {
   "cell_type": "code",
   "execution_count": 57,
   "id": "90cfe466",
   "metadata": {},
   "outputs": [
    {
     "name": "stdout",
     "output_type": "stream",
     "text": [
      "[10, 2, 3, 'H', 2.5, 'hi']\n"
     ]
    }
   ],
   "source": [
    "a_list = a_list + ['hi']\n",
    "print(a_list)"
   ]
  },
  {
   "cell_type": "code",
   "execution_count": 58,
   "id": "1f115347",
   "metadata": {},
   "outputs": [
    {
     "name": "stdout",
     "output_type": "stream",
     "text": [
      "[10, 2, 3, 'H', 2.5, 'hi', '!']\n"
     ]
    }
   ],
   "source": [
    "a_list.append('!')\n",
    "print(a_list)"
   ]
  },
  {
   "cell_type": "code",
   "execution_count": null,
   "id": "fdd19e18",
   "metadata": {},
   "outputs": [],
   "source": []
  }
 ],
 "metadata": {
  "kernelspec": {
   "display_name": "Python 3 (ipykernel)",
   "language": "python",
   "name": "python3"
  },
  "language_info": {
   "codemirror_mode": {
    "name": "ipython",
    "version": 3
   },
   "file_extension": ".py",
   "mimetype": "text/x-python",
   "name": "python",
   "nbconvert_exporter": "python",
   "pygments_lexer": "ipython3",
   "version": "3.10.9"
  }
 },
 "nbformat": 4,
 "nbformat_minor": 5
}
